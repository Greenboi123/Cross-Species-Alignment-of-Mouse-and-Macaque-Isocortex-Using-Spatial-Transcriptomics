{
 "cells": [
  {
   "cell_type": "code",
   "execution_count": null,
   "metadata": {},
   "outputs": [
    {
     "name": "stdout",
     "output_type": "stream",
     "text": [
      "Load lookup CSVs\n",
      "Create lookup dictionaries\n"
     ]
    },
    {
     "name": "stderr",
     "output_type": "stream",
     "text": [
      "R[write to console]: Loading required package: Matrix\n",
      "\n"
     ]
    },
    {
     "name": "stdout",
     "output_type": "stream",
     "text": [
      "Total unique genes: 15926\n",
      "Define global atlas and celltype dimensions\n",
      "Create mappings from atlas number / celltype to indices in aggregated arrays.\n",
      "Initialize global cumulative arrays:\n",
      "Processing D:\\Macaque\\cellFiles\\total_gene_T100.rds...\n"
     ]
    },
    {
     "ename": "KeyError",
     "evalue": "'cell_id'",
     "output_type": "error",
     "traceback": [
      "\u001b[1;31m---------------------------------------------------------------------------\u001b[0m",
      "\u001b[1;31mKeyError\u001b[0m                                  Traceback (most recent call last)",
      "Cell \u001b[1;32mIn[1], line 91\u001b[0m\n\u001b[0;32m     87\u001b[0m sparse_mat, local_genes, metadata \u001b[38;5;241m=\u001b[39m load_rds_as_sparse(file_path)\n\u001b[0;32m     88\u001b[0m \u001b[38;5;66;03m# Assume that metadata rows correspond to the columns of sparse_mat.\u001b[39;00m\n\u001b[0;32m     89\u001b[0m \n\u001b[0;32m     90\u001b[0m \u001b[38;5;66;03m# Map each cell's 'cell_id' to its celltype_index using the lookup dictionary.\u001b[39;00m\n\u001b[1;32m---> 91\u001b[0m metadata[\u001b[38;5;124m'\u001b[39m\u001b[38;5;124mcelltype_index\u001b[39m\u001b[38;5;124m'\u001b[39m] \u001b[38;5;241m=\u001b[39m \u001b[43mmetadata\u001b[49m\u001b[43m[\u001b[49m\u001b[38;5;124;43m'\u001b[39;49m\u001b[38;5;124;43mcell_id\u001b[39;49m\u001b[38;5;124;43m'\u001b[39;49m\u001b[43m]\u001b[49m\u001b[38;5;241m.\u001b[39mmap(cell_lookup_dict)\n\u001b[0;32m     92\u001b[0m \u001b[38;5;66;03m# Map each cell's 'gene_area' (global_region_id) to its atlas_number.\u001b[39;00m\n\u001b[0;32m     93\u001b[0m metadata[\u001b[38;5;124m'\u001b[39m\u001b[38;5;124matlas_number\u001b[39m\u001b[38;5;124m'\u001b[39m] \u001b[38;5;241m=\u001b[39m metadata[\u001b[38;5;124m'\u001b[39m\u001b[38;5;124mgene_area\u001b[39m\u001b[38;5;124m'\u001b[39m]\u001b[38;5;241m.\u001b[39mmap(region_lookup_dict)\n",
      "File \u001b[1;32mc:\\Users\\fjpgr\\anaconda3\\envs\\TF\\lib\\site-packages\\pandas\\core\\frame.py:4102\u001b[0m, in \u001b[0;36mDataFrame.__getitem__\u001b[1;34m(self, key)\u001b[0m\n\u001b[0;32m   4100\u001b[0m \u001b[38;5;28;01mif\u001b[39;00m \u001b[38;5;28mself\u001b[39m\u001b[38;5;241m.\u001b[39mcolumns\u001b[38;5;241m.\u001b[39mnlevels \u001b[38;5;241m>\u001b[39m \u001b[38;5;241m1\u001b[39m:\n\u001b[0;32m   4101\u001b[0m     \u001b[38;5;28;01mreturn\u001b[39;00m \u001b[38;5;28mself\u001b[39m\u001b[38;5;241m.\u001b[39m_getitem_multilevel(key)\n\u001b[1;32m-> 4102\u001b[0m indexer \u001b[38;5;241m=\u001b[39m \u001b[38;5;28;43mself\u001b[39;49m\u001b[38;5;241;43m.\u001b[39;49m\u001b[43mcolumns\u001b[49m\u001b[38;5;241;43m.\u001b[39;49m\u001b[43mget_loc\u001b[49m\u001b[43m(\u001b[49m\u001b[43mkey\u001b[49m\u001b[43m)\u001b[49m\n\u001b[0;32m   4103\u001b[0m \u001b[38;5;28;01mif\u001b[39;00m is_integer(indexer):\n\u001b[0;32m   4104\u001b[0m     indexer \u001b[38;5;241m=\u001b[39m [indexer]\n",
      "File \u001b[1;32mc:\\Users\\fjpgr\\anaconda3\\envs\\TF\\lib\\site-packages\\pandas\\core\\indexes\\range.py:417\u001b[0m, in \u001b[0;36mRangeIndex.get_loc\u001b[1;34m(self, key)\u001b[0m\n\u001b[0;32m    415\u001b[0m         \u001b[38;5;28;01mraise\u001b[39;00m \u001b[38;5;167;01mKeyError\u001b[39;00m(key) \u001b[38;5;28;01mfrom\u001b[39;00m\u001b[38;5;250m \u001b[39m\u001b[38;5;21;01merr\u001b[39;00m\n\u001b[0;32m    416\u001b[0m \u001b[38;5;28;01mif\u001b[39;00m \u001b[38;5;28misinstance\u001b[39m(key, Hashable):\n\u001b[1;32m--> 417\u001b[0m     \u001b[38;5;28;01mraise\u001b[39;00m \u001b[38;5;167;01mKeyError\u001b[39;00m(key)\n\u001b[0;32m    418\u001b[0m \u001b[38;5;28mself\u001b[39m\u001b[38;5;241m.\u001b[39m_check_indexing_error(key)\n\u001b[0;32m    419\u001b[0m \u001b[38;5;28;01mraise\u001b[39;00m \u001b[38;5;167;01mKeyError\u001b[39;00m(key)\n",
      "\u001b[1;31mKeyError\u001b[0m: 'cell_id'"
     ]
    }
   ],
   "source": [
    "import os\n",
    "import numpy as np\n",
    "import pandas as pd\n",
    "from scipy.sparse import csc_matrix\n",
    "import rpy2.robjects as ro\n",
    "from rpy2.robjects import numpy2ri\n",
    "numpy2ri.activate()  # enables automatic conversion between R and numpy objects\n",
    "from glob import glob\n",
    "\n",
    "# Import the R function for reading RDS files.\n",
    "readRDS = ro.r['readRDS']\n",
    "\n",
    "file_list = glob(r\"D:\\Macaque\\cellFiles\\*.rds\")\n",
    "\n",
    "# Load lookup CSVs\n",
    "cell_lookup = pd.read_csv('cell_id_to_celltype_lookup_with_index.csv')\n",
    "region_lookup = pd.read_csv('global_region_id_to_atlas_number.csv')\n",
    "print('Load lookup CSVs')\n",
    "\n",
    "# Create lookup dictionaries:\n",
    "cell_lookup_dict = pd.Series(cell_lookup.celltype_index.values, index=cell_lookup.cell_id).to_dict()\n",
    "region_lookup_dict = pd.Series(region_lookup.atlas_number.values, index=region_lookup.global_region_id).to_dict()\n",
    "print('Create lookup dictionaries')\n",
    "\n",
    "# --- FIRST PASS: Determine the union of all unique genes ---\n",
    "all_genes_set = set()\n",
    "for file_path in file_list:\n",
    "    _, genes, _ = load_rds_as_sparse(file_path)\n",
    "    all_genes_set.update(genes)\n",
    "all_genes = sorted(all_genes_set)\n",
    "n_genes = len(all_genes)\n",
    "print(f\"Total unique genes: {n_genes}\")\n",
    "\n",
    "# --- Define global atlas and celltype dimensions ---\n",
    "unique_atlas = sorted(region_lookup.atlas_number.unique())\n",
    "n_atlas = len(unique_atlas)\n",
    "unique_celltype = sorted(cell_lookup.celltype_index.unique())\n",
    "n_celltype = len(unique_celltype)\n",
    "print('Define global atlas and celltype dimensions')\n",
    "\n",
    "# Create mappings from atlas number / celltype to indices in aggregated arrays.\n",
    "atlas_to_index = {atlas: idx for idx, atlas in enumerate(unique_atlas)}\n",
    "celltype_to_index = {ct: idx for idx, ct in enumerate(unique_celltype)}\n",
    "# Create a mapping from gene symbol to its global index.\n",
    "gene_to_global_idx = {gene: idx for idx, gene in enumerate(all_genes)}\n",
    "print('Create mappings from atlas number / celltype to indices in aggregated arrays.')\n",
    "\n",
    "# Initialize global cumulative arrays:\n",
    "cumulative_sum = np.zeros((n_genes, n_atlas, n_celltype), dtype=np.float64)\n",
    "cumulative_count = np.zeros((n_genes, n_atlas, n_celltype), dtype=np.int64)\n",
    "print('Initialize global cumulative arrays:')\n"
   ]
  },
  {
   "cell_type": "code",
   "execution_count": 19,
   "metadata": {},
   "outputs": [
    {
     "name": "stdout",
     "output_type": "stream",
     "text": [
      "Processing D:\\Macaque\\cellFiles\\total_gene_T100.rds...\n",
      "Processing D:\\Macaque\\cellFiles\\total_gene_T101.rds...\n",
      "Processing D:\\Macaque\\cellFiles\\total_gene_T102.rds...\n",
      "Processing D:\\Macaque\\cellFiles\\total_gene_T103.rds...\n",
      "Processing D:\\Macaque\\cellFiles\\total_gene_T104.rds...\n",
      "Processing D:\\Macaque\\cellFiles\\total_gene_T105.rds...\n",
      "Processing D:\\Macaque\\cellFiles\\total_gene_T106.rds...\n",
      "Processing D:\\Macaque\\cellFiles\\total_gene_T107.rds...\n",
      "Processing D:\\Macaque\\cellFiles\\total_gene_T108.rds...\n",
      "Processing D:\\Macaque\\cellFiles\\total_gene_T109.rds...\n",
      "Processing D:\\Macaque\\cellFiles\\total_gene_T110.rds...\n",
      "Processing D:\\Macaque\\cellFiles\\total_gene_T111.rds...\n",
      "Processing D:\\Macaque\\cellFiles\\total_gene_T112.rds...\n",
      "Processing D:\\Macaque\\cellFiles\\total_gene_T113.rds...\n",
      "Processing D:\\Macaque\\cellFiles\\total_gene_T114.rds...\n",
      "Processing D:\\Macaque\\cellFiles\\total_gene_T115.rds...\n",
      "Processing D:\\Macaque\\cellFiles\\total_gene_T116.rds...\n",
      "Processing D:\\Macaque\\cellFiles\\total_gene_T117.rds...\n",
      "Processing D:\\Macaque\\cellFiles\\total_gene_T118.rds...\n",
      "Processing D:\\Macaque\\cellFiles\\total_gene_T119.rds...\n",
      "Processing D:\\Macaque\\cellFiles\\total_gene_T120.rds...\n",
      "Processing D:\\Macaque\\cellFiles\\total_gene_T121.rds...\n",
      "Processing D:\\Macaque\\cellFiles\\total_gene_T122.rds...\n",
      "Processing D:\\Macaque\\cellFiles\\total_gene_T123.rds...\n",
      "Processing D:\\Macaque\\cellFiles\\total_gene_T124.rds...\n",
      "Processing D:\\Macaque\\cellFiles\\total_gene_T125.rds...\n",
      "Processing D:\\Macaque\\cellFiles\\total_gene_T126.rds...\n",
      "Processing D:\\Macaque\\cellFiles\\total_gene_T127.rds...\n",
      "Processing D:\\Macaque\\cellFiles\\total_gene_T128.rds...\n",
      "Processing D:\\Macaque\\cellFiles\\total_gene_T129.rds...\n",
      "Processing D:\\Macaque\\cellFiles\\total_gene_T130.rds...\n",
      "Processing D:\\Macaque\\cellFiles\\total_gene_T131.rds...\n",
      "Processing D:\\Macaque\\cellFiles\\total_gene_T132.rds...\n",
      "Processing D:\\Macaque\\cellFiles\\total_gene_T133.rds...\n",
      "Processing D:\\Macaque\\cellFiles\\total_gene_T134.rds...\n",
      "Processing D:\\Macaque\\cellFiles\\total_gene_T135.rds...\n",
      "Processing D:\\Macaque\\cellFiles\\total_gene_T136.rds...\n",
      "Processing D:\\Macaque\\cellFiles\\total_gene_T137.rds...\n",
      "Processing D:\\Macaque\\cellFiles\\total_gene_T138.rds...\n",
      "Processing D:\\Macaque\\cellFiles\\total_gene_T139.rds...\n",
      "Processing D:\\Macaque\\cellFiles\\total_gene_T140.rds...\n",
      "Processing D:\\Macaque\\cellFiles\\total_gene_T141.rds...\n",
      "Processing D:\\Macaque\\cellFiles\\total_gene_T142.rds...\n",
      "Processing D:\\Macaque\\cellFiles\\total_gene_T143.rds...\n",
      "Processing D:\\Macaque\\cellFiles\\total_gene_T144.rds...\n",
      "Processing D:\\Macaque\\cellFiles\\total_gene_T147.rds...\n",
      "Processing D:\\Macaque\\cellFiles\\total_gene_T149.rds...\n",
      "Processing D:\\Macaque\\cellFiles\\total_gene_T151.rds...\n",
      "Processing D:\\Macaque\\cellFiles\\total_gene_T153.rds...\n",
      "Processing D:\\Macaque\\cellFiles\\total_gene_T155.rds...\n",
      "Processing D:\\Macaque\\cellFiles\\total_gene_T25.rds...\n",
      "Processing D:\\Macaque\\cellFiles\\total_gene_T27.rds...\n",
      "Processing D:\\Macaque\\cellFiles\\total_gene_T28.rds...\n",
      "Processing D:\\Macaque\\cellFiles\\total_gene_T29.rds...\n",
      "Processing D:\\Macaque\\cellFiles\\total_gene_T30.rds...\n",
      "Processing D:\\Macaque\\cellFiles\\total_gene_T31.rds...\n",
      "Processing D:\\Macaque\\cellFiles\\total_gene_T32.rds...\n",
      "Processing D:\\Macaque\\cellFiles\\total_gene_T33.rds...\n",
      "Processing D:\\Macaque\\cellFiles\\total_gene_T34.rds...\n",
      "Processing D:\\Macaque\\cellFiles\\total_gene_T36.rds...\n",
      "Processing D:\\Macaque\\cellFiles\\total_gene_T37.rds...\n",
      "Processing D:\\Macaque\\cellFiles\\total_gene_T38.rds...\n",
      "Processing D:\\Macaque\\cellFiles\\total_gene_T39.rds...\n",
      "Processing D:\\Macaque\\cellFiles\\total_gene_T40.rds...\n",
      "Processing D:\\Macaque\\cellFiles\\total_gene_T41.rds...\n",
      "Processing D:\\Macaque\\cellFiles\\total_gene_T42.rds...\n",
      "Processing D:\\Macaque\\cellFiles\\total_gene_T43.rds...\n",
      "Processing D:\\Macaque\\cellFiles\\total_gene_T44.rds...\n",
      "Processing D:\\Macaque\\cellFiles\\total_gene_T45.rds...\n",
      "Processing D:\\Macaque\\cellFiles\\total_gene_T47.rds...\n",
      "Processing D:\\Macaque\\cellFiles\\total_gene_T48.rds...\n",
      "Processing D:\\Macaque\\cellFiles\\total_gene_T49.rds...\n",
      "Processing D:\\Macaque\\cellFiles\\total_gene_T50.rds...\n",
      "Processing D:\\Macaque\\cellFiles\\total_gene_T51.rds...\n",
      "Processing D:\\Macaque\\cellFiles\\total_gene_T52.rds...\n",
      "Processing D:\\Macaque\\cellFiles\\total_gene_T53.rds...\n",
      "Processing D:\\Macaque\\cellFiles\\total_gene_T54.rds...\n",
      "Processing D:\\Macaque\\cellFiles\\total_gene_T55.rds...\n",
      "Processing D:\\Macaque\\cellFiles\\total_gene_T56.rds...\n",
      "Processing D:\\Macaque\\cellFiles\\total_gene_T57.rds...\n",
      "Processing D:\\Macaque\\cellFiles\\total_gene_T58.rds...\n",
      "Processing D:\\Macaque\\cellFiles\\total_gene_T59.rds...\n",
      "Processing D:\\Macaque\\cellFiles\\total_gene_T60.rds...\n",
      "Processing D:\\Macaque\\cellFiles\\total_gene_T61.rds...\n",
      "Processing D:\\Macaque\\cellFiles\\total_gene_T62.rds...\n",
      "Processing D:\\Macaque\\cellFiles\\total_gene_T63.rds...\n",
      "Processing D:\\Macaque\\cellFiles\\total_gene_T64.rds...\n",
      "Processing D:\\Macaque\\cellFiles\\total_gene_T65.rds...\n",
      "Processing D:\\Macaque\\cellFiles\\total_gene_T66.rds...\n",
      "Processing D:\\Macaque\\cellFiles\\total_gene_T67.rds...\n",
      "Processing D:\\Macaque\\cellFiles\\total_gene_T68.rds...\n",
      "Processing D:\\Macaque\\cellFiles\\total_gene_T71.rds...\n",
      "Processing D:\\Macaque\\cellFiles\\total_gene_T72.rds...\n",
      "Processing D:\\Macaque\\cellFiles\\total_gene_T73.rds...\n",
      "Processing D:\\Macaque\\cellFiles\\total_gene_T74.rds...\n",
      "Processing D:\\Macaque\\cellFiles\\total_gene_T75.rds...\n",
      "Processing D:\\Macaque\\cellFiles\\total_gene_T76.rds...\n",
      "Processing D:\\Macaque\\cellFiles\\total_gene_T77.rds...\n",
      "Processing D:\\Macaque\\cellFiles\\total_gene_T78.rds...\n",
      "Processing D:\\Macaque\\cellFiles\\total_gene_T79.rds...\n",
      "Processing D:\\Macaque\\cellFiles\\total_gene_T80.rds...\n",
      "Processing D:\\Macaque\\cellFiles\\total_gene_T81.rds...\n",
      "Processing D:\\Macaque\\cellFiles\\total_gene_T82.rds...\n",
      "Processing D:\\Macaque\\cellFiles\\total_gene_T83.rds...\n",
      "Processing D:\\Macaque\\cellFiles\\total_gene_T84.rds...\n",
      "Processing D:\\Macaque\\cellFiles\\total_gene_T85.rds...\n",
      "Processing D:\\Macaque\\cellFiles\\total_gene_T87.rds...\n",
      "Processing D:\\Macaque\\cellFiles\\total_gene_T88.rds...\n",
      "Processing D:\\Macaque\\cellFiles\\total_gene_T89.rds...\n",
      "Processing D:\\Macaque\\cellFiles\\total_gene_T90.rds...\n",
      "Processing D:\\Macaque\\cellFiles\\total_gene_T91.rds...\n",
      "Processing D:\\Macaque\\cellFiles\\total_gene_T92.rds...\n",
      "Processing D:\\Macaque\\cellFiles\\total_gene_T93.rds...\n",
      "Processing D:\\Macaque\\cellFiles\\total_gene_T94.rds...\n",
      "Processing D:\\Macaque\\cellFiles\\total_gene_T95.rds...\n",
      "Processing D:\\Macaque\\cellFiles\\total_gene_T96.rds...\n",
      "Processing D:\\Macaque\\cellFiles\\total_gene_T97.rds...\n",
      "Processing D:\\Macaque\\cellFiles\\total_gene_T98.rds...\n",
      "Processing D:\\Macaque\\cellFiles\\total_gene_T99.rds...\n",
      "Aggregated data saved to new_aggregated_data.npz\n"
     ]
    }
   ],
   "source": [
    "def load_rds_as_sparse(file_path):\n",
    "    \"\"\"\n",
    "    Load an .rds file that contains a dgCMatrix and return:\n",
    "      - a scipy.sparse.csc_matrix for the gene expression data,\n",
    "      - the gene symbols (row names),\n",
    "      - the cell metadata as a pandas DataFrame.\n",
    "      \n",
    "    This function assumes that:\n",
    "      - The dgCMatrix has slots \"i\", \"p\", \"x\", \"Dim\", and \"Dimnames\".\n",
    "      - The cell metadata is stored in the slot \"metadata\".\n",
    "    \"\"\"\n",
    "    r_obj = readRDS(file_path)\n",
    "    \n",
    "    # Access the S4 slots using ro.r['slot']\n",
    "    i_slot = np.array(ro.r['slot'](r_obj, 'i'))\n",
    "    p_slot = np.array(ro.r['slot'](r_obj, 'p'))\n",
    "    x_slot = np.array(ro.r['slot'](r_obj, 'x'))\n",
    "    dim = np.array(ro.r['slot'](r_obj, 'Dim'))\n",
    "    sparse_mat = csc_matrix((x_slot, i_slot, p_slot), shape=(dim[0], dim[1]))\n",
    "    \n",
    "    # Get gene names from the first element of the Dimnames slot\n",
    "    dimnames = ro.r['slot'](r_obj, 'Dimnames')\n",
    "    genes = list(dimnames[0])\n",
    "    \n",
    "    # Convert the metadata (cell info) to a pandas DataFrame.\n",
    "    meta_r = ro.r['slot'](r_obj, 'metadata')\n",
    "    metadata = pd.DataFrame(np.array(meta_r))\n",
    "    # You may need to adjust column names depending on how the metadata converts.\n",
    "    \n",
    "    return sparse_mat, genes, metadata\n",
    "\n",
    "# --- SECOND PASS: Process each file and update global cumulative arrays ---\n",
    "for file_path in file_list:\n",
    "    print(f\"Processing {file_path}...\")\n",
    "    sparse_mat, local_genes, metadata = load_rds_as_sparse(file_path)\n",
    "    # Assume that metadata rows correspond to the columns of sparse_mat.\n",
    "    \n",
    "    # Map each cell's 'cell_id' to its celltype_index using the lookup dictionary.\n",
    "    # Because of conversion metadata of shape (6, 313454), cell_id is first row\n",
    "    metadata['celltype_index'] = metadata.iloc[0].map(cell_lookup_dict)\n",
    "    # Map each cell's 'gene_area' (global_region_id) to its atlas_number.\n",
    "    # Gene is second row\n",
    "    metadata['atlas_number'] = metadata.iloc[1].map(region_lookup_dict)\n",
    "    \n",
    "    # Drop cells that could not be mapped.\n",
    "    metadata = metadata.dropna(subset=['celltype_index', 'atlas_number'])\n",
    "    \n",
    "    # Convert the lookup values to indices in our global arrays.\n",
    "    metadata['celltype_idx'] = metadata['celltype_index'].map(lambda x: celltype_to_index.get(x))\n",
    "    metadata['atlas_idx'] = metadata['atlas_number'].map(lambda x: atlas_to_index.get(x))\n",
    "    metadata = metadata.dropna(subset=['celltype_idx', 'atlas_idx'])\n",
    "    metadata['celltype_idx'] = metadata['celltype_idx'].astype(int)\n",
    "    metadata['atlas_idx'] = metadata['atlas_idx'].astype(int)\n",
    "    \n",
    "    # Group cells by their (atlas_idx, celltype_idx)\n",
    "    groups = metadata.groupby(['atlas_idx', 'celltype_idx']).indices\n",
    "    for (atlas_idx, celltype_idx), cell_indices in groups.items():\n",
    "        # Sum expression over the cells in this group.\n",
    "        # sparse_mat[:, cell_indices] has shape (n_local_genes, n_group_cells)\n",
    "        group_sum = sparse_mat[:, cell_indices].sum(axis=1)  # result is a matrix with shape (n_local_genes, 1)\n",
    "        group_sum = np.array(group_sum).flatten()  # convert to 1D array\n",
    "        group_cell_count = len(cell_indices)\n",
    "        \n",
    "        # For each gene in this file (local order), update the corresponding global entry.\n",
    "        for local_idx, gene in enumerate(local_genes):\n",
    "            global_idx = gene_to_global_idx[gene]\n",
    "            cumulative_sum[global_idx, atlas_idx, celltype_idx] += group_sum[local_idx]\n",
    "            cumulative_count[global_idx, atlas_idx, celltype_idx] += group_cell_count\n",
    "\n",
    "# --- Compute overall mean expression ---\n",
    "mean_array = np.full((n_genes, n_atlas, n_celltype), np.nan, dtype=np.float64)\n",
    "valid = cumulative_count > 0\n",
    "mean_array[valid] = cumulative_sum[valid] / cumulative_count[valid]\n",
    "\n",
    "# --- Save the aggregated data ---\n",
    "np.savez('new_aggregated_data.npz',\n",
    "         mean=mean_array,\n",
    "         sum=cumulative_sum,\n",
    "         count=cumulative_count,\n",
    "         genes=all_genes,\n",
    "         atlas_numbers=unique_atlas,\n",
    "         celltype_indices=unique_celltype)\n",
    "print(\"Aggregated data saved to new_aggregated_data.npz\")"
   ]
  },
  {
   "cell_type": "code",
   "execution_count": null,
   "metadata": {},
   "outputs": [
    {
     "name": "stdout",
     "output_type": "stream",
     "text": [
      "Keys: ['mean', 'sum', 'count', 'genes', 'atlas_numbers', 'celltype_indices']\n",
      "Mean shape: (15926, 141, 258)\n",
      "Number of genes: 15926\n"
     ]
    }
   ],
   "source": [
    "# Load the aggregated data\n",
    "data = np.load('new_aggregated_data.npz')\n",
    "\n",
    "# You can inspect available keys\n",
    "print(\"Keys:\", data.files)\n",
    "\n",
    "# Access the stored arrays and lists\n",
    "mean_array = data['mean']\n",
    "# genes = data['genes']\n",
    "# sum_array = data['sum']\n",
    "# count_array = data['count']\n",
    "# atlas_numbers = data['atlas_numbers']\n",
    "# celltype_indices = data['celltype_indices']\n",
    "\n",
    "# # For example, print shapes or contents\n",
    "# print(\"Mean shape:\", mean_array.shape)\n",
    "# print(\"Number of genes:\", len(genes))\n",
    "\n",
    "mean_data_permuted = np.transpose(mean_array, (0, 2, 1))\n",
    "samples = mean_data_permuted.reshape(-1, mean_array.shape[1])\n",
    "print(\"Samples shape:\", samples.shape)  # Expected: (8460*104, 239)\n",
    "np.save(\"samples141Regions.npy\", samples)"
   ]
  },
  {
   "cell_type": "markdown",
   "metadata": {},
   "source": [
    "# Creating the region mappings"
   ]
  },
  {
   "cell_type": "code",
   "execution_count": null,
   "metadata": {},
   "outputs": [
    {
     "name": "stdout",
     "output_type": "stream",
     "text": [
      "Region mapping saved to region_mapping.json\n"
     ]
    }
   ],
   "source": [
    "import pandas as pd\n",
    "import json\n",
    "\n",
    "# Read the CSV file (replace 'your_file.csv' with your actual filename)\n",
    "df = pd.read_csv(r\"D:\\Macaque\\regions-macaque1.csv\")\n",
    "regions = pd.read_csv(r\"D:\\Macaque\\MacaqueRegionMappings.csv\")\n",
    "\n",
    "# Helper function to extract the region from the origin_name\n",
    "def extract_region(origin_name):\n",
    "    if not isinstance(origin_name, str):\n",
    "        return None\n",
    "    parts = origin_name.split('-')\n",
    "    return parts[1] if len(parts) >= 3 else None\n",
    "\n",
    "# Create a new column 'region' by extracting it from 'origin_name'\n",
    "df['region'] = df['origin_name'].apply(extract_region)\n",
    "\n",
    "# List of valid regions\n",
    "regions_list = regions['Regions'].to_list()\n",
    "\n",
    "# Filter the DataFrame to only include rows with valid regions\n",
    "df = df[df['region'].isin(regions_list)]\n",
    "\n",
    "# Group by region and aggregate both the 'global_region_id' and 'chip' columns into lists\n",
    "region_mapping = df.groupby('region').agg({\n",
    "    'global_region_id': list,\n",
    "    'chip': list\n",
    "}).to_dict(orient='index')\n",
    "\n",
    "import json\n",
    "\n",
    "# Save the region_mapping dictionary to a JSON file\n",
    "with open('region_mapping.json', 'w') as outfile:\n",
    "    json.dump(region_mapping, outfile, indent=4)\n",
    "\n",
    "print(\"Region mapping saved to region_mapping.json\")"
   ]
  },
  {
   "cell_type": "code",
   "execution_count": null,
   "metadata": {},
   "outputs": [
    {
     "name": "stdout",
     "output_type": "stream",
     "text": [
      "(143,)\n",
      "141\n",
      "   Regions  Atlas #\n",
      "87     Opt      419\n",
      "92      PF      389\n",
      "93     PFG      389\n",
      "94      PG      419\n"
     ]
    }
   ],
   "source": [
    "df = pd.read_csv(r\"D:\\Macaque\\MacaqueRegionMappings.csv\")\n",
    "\n",
    "print(df['Atlas #'].shape)\n",
    "print(len(df['Atlas #'].unique()))\n",
    "print(df[df['Atlas #'].duplicated(keep=False)])"
   ]
  },
  {
   "cell_type": "code",
   "execution_count": null,
   "metadata": {},
   "outputs": [
    {
     "name": "stdout",
     "output_type": "stream",
     "text": [
      "Lookup table saved to global_region_id_to_atlas_number.csv\n"
     ]
    }
   ],
   "source": [
    "# Load your region mapping from JSON file\n",
    "with open('region_mapping.json', 'r') as infile:\n",
    "    region_mapping = json.load(infile)\n",
    "\n",
    "# Load CSV that maps region keys to atlas numbers.\n",
    "# Assume CSV has columns: 'region' and 'atlas_number'\n",
    "region_atlas_df = pd.read_csv(r\"D:\\Macaque\\MacaqueRegionMappings.csv\")\n",
    "\n",
    "# Prepare a list for the flattened mapping.\n",
    "flat_mapping = []\n",
    "\n",
    "# Iterate over each region and its list of global_region_ids.\n",
    "for region, mapping in region_mapping.items():\n",
    "    # Look up the atlas number for this region.\n",
    "    atlas_row = region_atlas_df[region_atlas_df['Regions'] == region]\n",
    "    if not atlas_row.empty:\n",
    "        atlas_number = atlas_row['Atlas #'].values[0]\n",
    "    else:\n",
    "        atlas_number = None  # or handle missing atlas number as needed\n",
    "    # Add a record for each global_region_id in the region.\n",
    "    for global_id in mapping['global_region_id']:\n",
    "        flat_mapping.append({\n",
    "            'global_region_id': global_id,\n",
    "            'region': region,\n",
    "            'atlas_number': atlas_number\n",
    "        })\n",
    "\n",
    "# Convert the flat mapping to a DataFrame.\n",
    "lookup_df = pd.DataFrame(flat_mapping)\n",
    "lookup_df = lookup_df.drop_duplicates()\n",
    "\n",
    "# Save this flattened lookup table to a CSV file.\n",
    "lookup_df.to_csv('global_region_id_to_atlas_number.csv', index=False)\n",
    "print(\"Lookup table saved to global_region_id_to_atlas_number.csv\")\n"
   ]
  },
  {
   "cell_type": "markdown",
   "metadata": {},
   "source": [
    "# Creating the Cell_Id Mappings\n",
    "(95 cells of the 32 mil have no cell Ids)"
   ]
  },
  {
   "cell_type": "code",
   "execution_count": 14,
   "metadata": {},
   "outputs": [
    {
     "name": "stdout",
     "output_type": "stream",
     "text": [
      "Unique lookup table saved to cell_id_to_celltype_lookup.csv\n"
     ]
    }
   ],
   "source": [
    "# Read the TSV file (adjust the filename if necessary)\n",
    "df = pd.read_csv(r\"D:\\Macaque\\ST.CellID.CellType.3monkeys.all.tsv\", sep='\\t', usecols=['cell_id', 'celltype'])\n",
    "\n",
    "# Extract only the relevant columns (cell_id and celltype) and remove duplicate rows\n",
    "lookup_df = df[['cell_id', 'celltype']].drop_duplicates()\n",
    "\n",
    "# Save the unique lookup table to a CSV file\n",
    "lookup_df.to_csv('cell_id_to_celltype_lookup.csv', index=False)\n",
    "print(\"Unique lookup table saved to cell_id_to_celltype_lookup.csv\")"
   ]
  },
  {
   "cell_type": "code",
   "execution_count": null,
   "metadata": {},
   "outputs": [
    {
     "name": "stdout",
     "output_type": "stream",
     "text": [
      "   cell_id celltype\n",
      "0      3.0     L4.2\n",
      "1      5.0     L6.4\n",
      "2      8.0    OLG.8\n",
      "3     14.0  L4/5.12\n",
      "4     15.0   L2/3.8\n"
     ]
    }
   ],
   "source": [
    "df = pd.read_csv(r\"D:\\Macaque\\cell_id_to_celltype_lookup.csv\")\n",
    "print(df)\n",
    "print(len(df['celltype'].unique()))\n",
    "nan_rows = df[df['celltype'].isna()]\n",
    "print(len(nan_rows))"
   ]
  },
  {
   "cell_type": "code",
   "execution_count": 15,
   "metadata": {},
   "outputs": [
    {
     "name": "stdout",
     "output_type": "stream",
     "text": [
      "Updated lookup table saved to cell_id_to_celltype_lookup_with_index.csv\n"
     ]
    }
   ],
   "source": [
    "# Read the existing lookup CSV file\n",
    "lookup_df = pd.read_csv('cell_id_to_celltype_lookup.csv')\n",
    "\n",
    "# Get unique celltypes in the order of appearance\n",
    "unique_celltypes = lookup_df['celltype'].drop_duplicates().reset_index(drop=True)\n",
    "\n",
    "# Create a mapping dictionary: celltype -> index (starting from 0)\n",
    "celltype_to_index = {celltype: idx for idx, celltype in enumerate(unique_celltypes)}\n",
    "\n",
    "# Add a new column 'celltype_index' by mapping the celltype column\n",
    "lookup_df['celltype_index'] = lookup_df['celltype'].map(celltype_to_index)\n",
    "\n",
    "# Save the updated lookup table to a new CSV file\n",
    "lookup_df.to_csv('cell_id_to_celltype_lookup_with_index.csv', index=False)\n",
    "print(\"Updated lookup table saved to cell_id_to_celltype_lookup_with_index.csv\")"
   ]
  },
  {
   "cell_type": "code",
   "execution_count": 18,
   "metadata": {},
   "outputs": [
    {
     "name": "stdout",
     "output_type": "stream",
     "text": [
      "   cell_id celltype  celltype_index\n",
      "0      3.0     L4.2               0\n",
      "1      5.0     L6.4               1\n",
      "2      8.0    OLG.8               2\n",
      "3     14.0  L4/5.12               3\n",
      "4     15.0   L2/3.8               4\n",
      "258\n"
     ]
    }
   ],
   "source": [
    "print(lookup_df.head())\n",
    "print(len(lookup_df['celltype_index'].unique()))"
   ]
  }
 ],
 "metadata": {
  "kernelspec": {
   "display_name": "TF",
   "language": "python",
   "name": "python3"
  },
  "language_info": {
   "codemirror_mode": {
    "name": "ipython",
    "version": 3
   },
   "file_extension": ".py",
   "mimetype": "text/x-python",
   "name": "python",
   "nbconvert_exporter": "python",
   "pygments_lexer": "ipython3",
   "version": "3.10.16"
  }
 },
 "nbformat": 4,
 "nbformat_minor": 2
}
