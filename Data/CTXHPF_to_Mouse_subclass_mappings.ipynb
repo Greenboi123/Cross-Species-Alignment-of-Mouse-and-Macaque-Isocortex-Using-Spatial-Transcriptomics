{
 "cells": [
  {
   "cell_type": "code",
   "execution_count": 2,
   "id": "8e9f6ed2",
   "metadata": {},
   "outputs": [
    {
     "name": "stdout",
     "output_type": "stream",
     "text": [
      "Cluster ID: 10.0, counts: {48.0: 1, 49.0: 1}\n",
      "Cluster ID: 25.0, counts: {47.0: 1, 48.0: 1}\n",
      "Cluster ID: 58.0, counts: {46.0: 1, 48.0: 1}\n",
      "Cluster ID: 107.0, counts: {48.0: 1, 53.0: 1}\n",
      "Cluster ID: 116.0, counts: {52.0: 1, 262.0: 1}\n",
      "Cluster ID: 163.0, counts: {7.0: 1, 14.0: 1}\n",
      "Cluster ID: 164.0, counts: {7.0: 1, 73.0: 1}\n",
      "Cluster ID: 175.0, counts: {9.0: 1, 14.0: 1, 113.0: 1}\n",
      "Cluster ID: 193.0, counts: {6.0: 1, 203.0: 1}\n",
      "Cluster ID: 195.0, counts: {5.0: 1, 114.0: 1}\n",
      "Cluster ID: 213.0, counts: {2.0: 1, 3.0: 1}\n",
      "Cluster ID: 226.0, counts: {2.0: 1, 3.0: 1, 4.0: 1}\n",
      "Cluster ID: 237.0, counts: {1.0: 1, 7.0: 1}\n",
      "Cluster ID: 304.0, counts: {28.0: 2, 29.0: 2}\n",
      "Cluster ID: 316.0, counts: {27.0: 2, 29.0: 2}\n",
      "Cluster ID: 344.0, counts: {14.0: 1, 16.0: 1}\n",
      "Cluster ID: 387.0, counts: {335.0: 1, 337.0: 1}\n",
      "Cluster ID: 388.0, counts: {335.0: 1, 336.0: 1}\n"
     ]
    }
   ],
   "source": [
    "import pandas as pd\n",
    "from collections import Counter\n",
    "\n",
    "# Read the CSV data\n",
    "mouse_metadata = pd.read_csv(r\"D:\\Mouse\\Notebooks\\mouse_data_cluster_metadata.csv\")\n",
    "\n",
    "# Group by 'CTX.cluster_id' and get the full list of 'subclass_id's for each cluster.\n",
    "cluster_mapping_full = mouse_metadata.groupby('CTX.cluster_id')['subclass_id'].apply(list).to_dict()\n",
    "\n",
    "# Container for clusters that do not have a uniquely most common subclass_id\n",
    "clusters_without_unique_mode = {}\n",
    "\n",
    "# Process each cluster group to check for a unique mode.\n",
    "for cluster_id, subclass_list in cluster_mapping_full.items():\n",
    "    # Consider only clusters with more than one entry\n",
    "    if len(subclass_list) > 1:\n",
    "        count = Counter(subclass_list)\n",
    "        # Get the counts sorted from most to least common\n",
    "        most_common = count.most_common()\n",
    "        # If the two most common have the same frequency, then there is no unique most common value.\n",
    "        if len(most_common) >= 2 and most_common[0][1] == most_common[1][1]:\n",
    "            clusters_without_unique_mode[cluster_id] = dict(count)\n",
    "\n",
    "# Print only the keys (and their counts) that did not have a unique most common value.\n",
    "for cluster_id, counts in clusters_without_unique_mode.items():\n",
    "    print(f\"Cluster ID: {cluster_id}, counts: {counts}\")"
   ]
  },
  {
   "cell_type": "code",
   "execution_count": 3,
   "id": "5b4cee4a",
   "metadata": {},
   "outputs": [
    {
     "name": "stdout",
     "output_type": "stream",
     "text": [
      "83         16_Lamp5\n",
      "137        16_Lamp5\n",
      "166        16_Lamp5\n",
      "179        16_Lamp5\n",
      "207        16_Lamp5\n",
      "             ...   \n",
      "1104282    16_Lamp5\n",
      "1104394    16_Lamp5\n",
      "1104627    16_Lamp5\n",
      "1105149    16_Lamp5\n",
      "1105376    16_Lamp5\n",
      "Name: cell_type_alias_label, Length: 2169, dtype: object\n",
      "    subclass_label  subclass_id\n",
      "587   OB Dopa-Gaba         44.0\n",
      "715     Lamp5 Gaba         49.0\n",
      "716     Lamp5 Gaba         49.0\n"
     ]
    }
   ],
   "source": [
    "# Checking names:\n",
    "cell = 16\n",
    "CTXHPF_metadata = pd.read_csv(r\"D:\\Mouse\\Notebooks\\Metadata_CTXHPF_Cells_Link_Mouse_Paper.csv\",usecols=['cell_type_alias_id','sample_name','cell_type_alias_label'])\n",
    "a = CTXHPF_metadata[CTXHPF_metadata['cell_type_alias_id']==cell]['cell_type_alias_label']\n",
    "print(a)\n",
    "mouse_metadata = pd.read_csv(r\"D:\\Mouse\\Notebooks\\mouse_data_cluster_metadata.csv\",usecols=['CTX.cluster_id','subclass_label','subclass_id'])\n",
    "b = mouse_metadata[mouse_metadata['CTX.cluster_id']==cell][['subclass_label','subclass_id']]\n",
    "print(b)\n",
    "\n",
    "#most like name like 10 Lamp5 Gaba more like 10_lamp5 than RHP-COA Ndnf Gaba\n",
    "#10:49\n",
    "#25:47\n",
    "#58:46\n",
    "#107:53\n",
    "#116:52\n",
    "#163:7\n",
    "#164:7\n",
    "#175:9\n",
    "#193:6\n",
    "#213:3\n",
    "#226:4\n",
    "#237:1\n",
    "#304:29\n",
    "#316:29\n",
    "#344:16\n",
    "#387:335\n",
    "#388:335"
   ]
  },
  {
   "cell_type": "code",
   "execution_count": 9,
   "id": "e28804ae",
   "metadata": {},
   "outputs": [
    {
     "name": "stdout",
     "output_type": "stream",
     "text": [
      "{1.0: 36.0, 2.0: 44.0, 3.0: 41.0, 4.0: 48.0, 5.0: 50.0, 6.0: 50.0, 7.0: 50.0, 8.0: 50.0, 9.0: 50.0, 11.0: 49.0, 12.0: 49.0, 14.0: 47.0, 15.0: 49.0, 16.0: 49.0, 17.0: 49.0, 19.0: 49.0, 21.0: 47.0, 24.0: 47.0, 26.0: 48.0, 27.0: 48.0, 28.0: 48.0, 29.0: 48.0, 30.0: 48.0, 31.0: 47.0, 32.0: 47.0, 33.0: 47.0, 34.0: 47.0, 35.0: 47.0, 36.0: 47.0, 37.0: 47.0, 39.0: 47.0, 41.0: 47.0, 42.0: 46.0, 43.0: 46.0, 44.0: 46.0, 45.0: 46.0, 46.0: 46.0, 47.0: 46.0, 48.0: 46.0, 49.0: 46.0, 50.0: 46.0, 51.0: 46.0, 53.0: 46.0, 55.0: 46.0, 56.0: 46.0, 59.0: 46.0, 60.0: 46.0, 61.0: 46.0, 62.0: 49.0, 63.0: 56.0, 64.0: 56.0, 67.0: 53.0, 68.0: 53.0, 69.0: 53.0, 70.0: 53.0, 71.0: 53.0, 72.0: 53.0, 74.0: 57.0, 75.0: 53.0, 76.0: 53.0, 77.0: 53.0, 78.0: 53.0, 79.0: 53.0, 80.0: 53.0, 81.0: 53.0, 82.0: 53.0, 84.0: 53.0, 85.0: 53.0, 87.0: 75.0, 88.0: 53.0, 89.0: 53.0, 90.0: 53.0, 91.0: 53.0, 93.0: 53.0, 94.0: 53.0, 96.0: 53.0, 97.0: 53.0, 98.0: 53.0, 99.0: 53.0, 100.0: 53.0, 102.0: 53.0, 103.0: 53.0, 104.0: 53.0, 105.0: 53.0, 106.0: 53.0, 108.0: 53.0, 109.0: 52.0, 110.0: 52.0, 111.0: 52.0, 112.0: 52.0, 113.0: 54.0, 114.0: 52.0, 115.0: 52.0, 117.0: 52.0, 118.0: 52.0, 119.0: 52.0, 121.0: 52.0, 122.0: 51.0, 123.0: 51.0, 124.0: 18.0, 125.0: 18.0, 126.0: 18.0, 127.0: 18.0, 128.0: 18.0, 129.0: 19.0, 130.0: 19.0, 131.0: 19.0, 132.0: 20.0, 133.0: 20.0, 134.0: 20.0, 135.0: 8.0, 136.0: 19.0, 138.0: 8.0, 139.0: 8.0, 140.0: 8.0, 141.0: 19.0, 142.0: 19.0, 143.0: 19.0, 144.0: 19.0, 145.0: 19.0, 146.0: 11.0, 147.0: 11.0, 149.0: 11.0, 150.0: 11.0, 151.0: 9.0, 152.0: 8.0, 153.0: 8.0, 154.0: 8.0, 155.0: 9.0, 156.0: 15.0, 157.0: 10.0, 159.0: 9.0, 160.0: 9.0, 161.0: 9.0, 162.0: 7.0, 165.0: 7.0, 166.0: 7.0, 167.0: 7.0, 168.0: 7.0, 173.0: 16.0, 176.0: 15.0, 178.0: 6.0, 179.0: 6.0, 180.0: 6.0, 182.0: 6.0, 183.0: 6.0, 185.0: 6.0, 187.0: 6.0, 188.0: 6.0, 189.0: 80.0, 190.0: 6.0, 191.0: 6.0, 192.0: 114.0, 194.0: 5.0, 196.0: 6.0, 197.0: 5.0, 199.0: 5.0, 200.0: 6.0, 204.0: 5.0, 205.0: 4.0, 208.0: 4.0, 209.0: 4.0, 210.0: 3.0, 212.0: 3.0, 214.0: 6.0, 215.0: 3.0, 216.0: 3.0, 218.0: 4.0, 219.0: 4.0, 220.0: 4.0, 221.0: 5.0, 222.0: 3.0, 223.0: 4.0, 224.0: 2.0, 225.0: 2.0, 227.0: 4.0, 228.0: 4.0, 229.0: 4.0, 230.0: 4.0, 233.0: 2.0, 234.0: 2.0, 235.0: 2.0, 236.0: 1.0, 238.0: 1.0, 239.0: 22.0, 241.0: 22.0, 242.0: 22.0, 244.0: 22.0, 245.0: 22.0, 246.0: 22.0, 247.0: 22.0, 248.0: 22.0, 251.0: 22.0, 252.0: 22.0, 253.0: 22.0, 254.0: 22.0, 255.0: 22.0, 256.0: 22.0, 257.0: 22.0, 258.0: 22.0, 259.0: 22.0, 260.0: 22.0, 261.0: 21.0, 263.0: 24.0, 264.0: 32.0, 265.0: 32.0, 266.0: 32.0, 267.0: 32.0, 268.0: 32.0, 269.0: 32.0, 270.0: 32.0, 271.0: 33.0, 272.0: 33.0, 273.0: 33.0, 274.0: 33.0, 275.0: 34.0, 276.0: 34.0, 278.0: 30.0, 279.0: 30.0, 280.0: 30.0, 283.0: 30.0, 284.0: 30.0, 287.0: 30.0, 288.0: 30.0, 290.0: 30.0, 291.0: 30.0, 292.0: 30.0, 293.0: 30.0, 294.0: 31.0, 296.0: 31.0, 298.0: 28.0, 300.0: 28.0, 301.0: 28.0, 302.0: 28.0, 303.0: 27.0, 306.0: 29.0, 310.0: 28.0, 312.0: 29.0, 313.0: 29.0, 315.0: 29.0, 317.0: 29.0, 318.0: 23.0, 319.0: 23.0, 320.0: 23.0, 321.0: 23.0, 322.0: 23.0, 323.0: 23.0, 324.0: 23.0, 326.0: 23.0, 328.0: 23.0, 329.0: 16.0, 330.0: 16.0, 331.0: 16.0, 332.0: 16.0, 333.0: 16.0, 334.0: 15.0, 335.0: 16.0, 336.0: 16.0, 337.0: 16.0, 338.0: 16.0, 339.0: 16.0, 340.0: 16.0, 341.0: 16.0, 342.0: 16.0, 343.0: 16.0, 345.0: 16.0, 346.0: 16.0, 347.0: 16.0, 348.0: 16.0, 350.0: 17.0, 351.0: 17.0, 352.0: 17.0, 353.0: 17.0, 354.0: 17.0, 355.0: 17.0, 356.0: 17.0, 357.0: 17.0, 358.0: 17.0, 359.0: 25.0, 360.0: 25.0, 361.0: 37.0, 362.0: 37.0, 363.0: 37.0, 365.0: 326.0, 366.0: 326.0, 367.0: 327.0, 368.0: 327.0, 369.0: 327.0, 370.0: 327.0, 371.0: 327.0, 372.0: 327.0, 373.0: 327.0, 374.0: 327.0, 375.0: 327.0, 376.0: 319.0, 377.0: 323.0, 378.0: 319.0, 379.0: 333.0, 380.0: 332.0, 382.0: 331.0, 383.0: 330.0, 384.0: 330.0, 385.0: 330.0, 386.0: 334.0, 10: 49, 25: 47, 58: 46, 107: 53, 116: 52, 163: 7, 164: 7, 175: 9, 193: 6, 213: 3, 226: 4, 237: 1, 304: 29, 316: 29, 344: 16, 387: 335, 388: 335}\n"
     ]
    }
   ],
   "source": [
    "import json\n",
    "# Saving mappings:\n",
    "# Build a dictionary for clusters that have either:\n",
    "#  - a single unique subclass value, or \n",
    "#  - more than one value but with a unique most common subclass value.\n",
    "unique_mode_mapping = {}\n",
    "\n",
    "for cluster_id, subclass_list in cluster_mapping_full.items():\n",
    "    cnt = Counter(subclass_list)\n",
    "    # If the cluster has exactly one unique subclass, record that value.\n",
    "    if len(cnt) == 1:\n",
    "        unique_mode_mapping[cluster_id] = list(cnt.keys())[0]\n",
    "    # Otherwise, if it has multiple subclass entries, check for a unique mode.\n",
    "    else:\n",
    "        # Get the two most common subclass values.\n",
    "        most_common = cnt.most_common(2)\n",
    "        # If the top subclass count is greater than the second one, we have a unique mode.\n",
    "        if most_common[0][1] > most_common[1][1]:\n",
    "            unique_mode_mapping[cluster_id] = most_common[0][0]\n",
    "\n",
    "provided_mappings = {\n",
    "    10: 49,\n",
    "    25: 47,\n",
    "    58: 46,\n",
    "    107: 53,\n",
    "    116: 52,\n",
    "    163: 7,\n",
    "    164: 7,\n",
    "    175: 9,\n",
    "    193: 6,\n",
    "    213: 3,\n",
    "    226: 4,\n",
    "    237: 1,\n",
    "    304: 29,\n",
    "    316: 29,\n",
    "    344: 16,\n",
    "    387: 335,\n",
    "    388: 335\n",
    "}\n",
    "\n",
    "unique_mode_mapping.update(provided_mappings)\n",
    "\n",
    "print(unique_mode_mapping)\n",
    "with open(\"D:\\\\Mouse\\\\Notebooks\\\\CTXHPFcluster_to_Mousesubclass_mapping.json\",'w') as f:\n",
    "    json.dump(unique_mode_mapping,f)"
   ]
  }
 ],
 "metadata": {
  "kernelspec": {
   "display_name": "TF",
   "language": "python",
   "name": "python3"
  },
  "language_info": {
   "codemirror_mode": {
    "name": "ipython",
    "version": 3
   },
   "file_extension": ".py",
   "mimetype": "text/x-python",
   "name": "python",
   "nbconvert_exporter": "python",
   "pygments_lexer": "ipython3",
   "version": "3.10.16"
  }
 },
 "nbformat": 4,
 "nbformat_minor": 5
}
